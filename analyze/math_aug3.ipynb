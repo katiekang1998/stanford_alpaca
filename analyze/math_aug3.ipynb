{
 "cells": [
  {
   "cell_type": "code",
   "execution_count": 1,
   "metadata": {},
   "outputs": [
    {
     "name": "stderr",
     "output_type": "stream",
     "text": [
      "/data/katie_kang/miniconda3/envs/trlx2/lib/python3.9/site-packages/tqdm/auto.py:21: TqdmWarning: IProgress not found. Please update jupyter and ipywidgets. See https://ipywidgets.readthedocs.io/en/stable/user_install.html\n",
      "  from .autonotebook import tqdm as notebook_tqdm\n"
     ]
    },
    {
     "name": "stdout",
     "output_type": "stream",
     "text": [
      "[2024-06-24 23:27:30,112] [INFO] [real_accelerator.py:191:get_accelerator] Setting ds_accelerator to cuda (auto detect)\n"
     ]
    }
   ],
   "source": [
    "import numpy as np \n",
    "import matplotlib.pyplot as plt \n",
    "import json\n",
    "import evaluate\n",
    "import tqdm"
   ]
  },
  {
   "cell_type": "code",
   "execution_count": 2,
   "metadata": {},
   "outputs": [],
   "source": [
    "with open('../MATH_aug/AugMATH_part1.jsonl', 'r') as json_file:\n",
    "    json_list = list(json_file)\n",
    "with open('../MATH_aug/AugMATH_part2.jsonl', 'r') as json_file:\n",
    "    json_list += list(json_file)\n",
    "    \n",
    "train_questions = []\n",
    "train_answers = []\n",
    "for json_str in json_list:\n",
    "    result = json.loads(json_str)\n",
    "    train_questions.append(result[\"query\"])\n",
    "    train_answers.append(result[\"response\"])\n",
    "train_questions = np.array(train_questions)\n",
    "train_answers = np.array(train_answers)"
   ]
  },
  {
   "cell_type": "code",
   "execution_count": 35,
   "metadata": {},
   "outputs": [],
   "source": [
    "full_train_part1_accs = (np.load(\"../MATH_aug/train_part1_answer_types5.npy\")==0).sum(axis=-1)\n",
    "full_train_part2_accs = (np.load(\"../MATH_aug/train_part2_answer_types5.npy\")==0).sum(axis=-1)\n",
    "full_train_accs = np.concatenate([full_train_part1_accs, full_train_part2_accs])\n",
    "\n",
    "hard_idxs = np.where((full_train_accs>0)*(full_train_accs<3))[0]"
   ]
  },
  {
   "cell_type": "code",
   "execution_count": 36,
   "metadata": {},
   "outputs": [],
   "source": [
    "ckpt = \"../ckpts/math_aug_fft_rand10000/\"\n",
    "\n",
    "subsample_idxs = np.load(ckpt + \"subsample_idxs.npy\")[:1000]\n",
    "\n",
    "train_samples = np.load(ckpt + \"train_subsample_answers5.npy\")\n",
    "train_accs = (np.load(ckpt + \"train_subsample_answer_types5.npy\")==0)\n"
   ]
  },
  {
   "cell_type": "code",
   "execution_count": 37,
   "metadata": {},
   "outputs": [],
   "source": [
    "hard_train_samples = []\n",
    "hard_train_accs = []\n",
    "\n",
    "true_hard_train_samples = []\n",
    "ground_truth_answers = []\n",
    "\n",
    "for i in range((1000)):\n",
    "    if subsample_idxs[i] in hard_idxs:\n",
    "        hard_train_samples.append(train_samples[i])\n",
    "        hard_train_accs.append(train_accs[i])\n",
    "        for j in range(5):\n",
    "            if train_accs[i][j] == 1:\n",
    "                true_hard_train_samples.append(train_samples[i][j])\n",
    "                ground_truth_answers.append(train_answers[subsample_idxs[i]])\n",
    "\n",
    "hard_train_samples = np.array(hard_train_samples)\n",
    "hard_train_accs = np.array(hard_train_accs)"
   ]
  },
  {
   "cell_type": "code",
   "execution_count": 38,
   "metadata": {},
   "outputs": [
    {
     "data": {
      "text/plain": [
       "0.1003921568627451"
      ]
     },
     "execution_count": 38,
     "metadata": {},
     "output_type": "execute_result"
    }
   ],
   "source": [
    "hard_train_accs.mean()"
   ]
  },
  {
   "cell_type": "code",
   "execution_count": 25,
   "metadata": {},
   "outputs": [
    {
     "data": {
      "text/plain": [
       "\" The three-digit integer $NPM$ can be written as $100N + 10P + M$.\\nWhen we divide this by $M$, we get a quotient of $100N + 10P$.\\nThe remainder is $M$.\\nWe are given that the quotient is the two-digit integer $MM$, so we have $100N + 10P = MM$.\\nWe are also given that the digits in the hundreds place of $NPM$ are equal, so $N = P$.\\nLet's call the value of $N$ (which is also the value of $P$) as $x$.\\nThen the value of $NPM$ is $10x + M$.\\nWe want to find the value of $M$ when $N = P = x$.\\nWhen we substitute $x$ into the equation $10x + M$, we get $10x + M$.\\nWe know that when we divide this by $M$, we get a quotient of $10x$.\\nSo we can set up the equation $10x = M$.\\nWe are given that the value of $M$ is 20, so we have $10x = 20$.\\nSolving for $x$, we get $x = \\\\frac{20}{10} = 2$.\\nTherefore, the value of $M$ is 2. The answer is: $2$\""
      ]
     },
     "execution_count": 25,
     "metadata": {},
     "output_type": "execute_result"
    }
   ],
   "source": [
    "true_hard_train_samples[3]"
   ]
  },
  {
   "cell_type": "code",
   "execution_count": 26,
   "metadata": {},
   "outputs": [
    {
     "data": {
      "text/plain": [
       "' The three-digit integer $NPM$ can be written as $100N + 10P + M$.\\nWhen we divide $100N + 10P + M$ by $M$, we get $MM$, or $10M + M = 11M$.\\nSo we have the equation $\\\\frac{100N + 10P + M}{M} = 11M$.\\nMultiplying both sides by $M$, we get $100N + 10P + M = 11M^2$.\\nSince $N$, $P$, and $M$ are all digits, $N$ and $P$ must be between 0 and 9, and $M$ must be between 1 and 9.\\nWe can try different values of $M$ to see which one satisfies the equation.\\nIf we try $M = 1$, we get $100N + 10P + 1 = 11$, which is not possible since the left side is clearly larger than the right side.\\nIf we try $M = 2$, we get $100N + 10P + 2 = 44$, which simplifies to $100N + 10P = 42$.\\nSince $N$ and $P$ are digits, the only solution is $N = 4$, $P = 2$.\\nSo $M = 2$ is the value that satisfies the equation.\\nThe value of $M$ is 2. The answer is: $2$'"
      ]
     },
     "execution_count": 26,
     "metadata": {},
     "output_type": "execute_result"
    }
   ],
   "source": [
    "ground_truth_answers[3]"
   ]
  },
  {
   "cell_type": "code",
   "execution_count": null,
   "metadata": {},
   "outputs": [],
   "source": []
  }
 ],
 "metadata": {
  "kernelspec": {
   "display_name": "trlx2",
   "language": "python",
   "name": "python3"
  },
  "language_info": {
   "codemirror_mode": {
    "name": "ipython",
    "version": 3
   },
   "file_extension": ".py",
   "mimetype": "text/x-python",
   "name": "python",
   "nbconvert_exporter": "python",
   "pygments_lexer": "ipython3",
   "version": "3.9.19"
  }
 },
 "nbformat": 4,
 "nbformat_minor": 2
}
