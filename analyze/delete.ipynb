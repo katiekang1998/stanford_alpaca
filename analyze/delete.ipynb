{
 "cells": [
  {
   "cell_type": "code",
   "execution_count": 1,
   "metadata": {},
   "outputs": [
    {
     "name": "stderr",
     "output_type": "stream",
     "text": [
      "/data/katie_kang/miniconda3/envs/trlx2/lib/python3.9/site-packages/tqdm/auto.py:21: TqdmWarning: IProgress not found. Please update jupyter and ipywidgets. See https://ipywidgets.readthedocs.io/en/stable/user_install.html\n",
      "  from .autonotebook import tqdm as notebook_tqdm\n"
     ]
    }
   ],
   "source": [
    "from datasets import load_dataset\n"
   ]
  },
  {
   "cell_type": "code",
   "execution_count": 60,
   "metadata": {},
   "outputs": [
    {
     "name": "stderr",
     "output_type": "stream",
     "text": [
      "Downloading data: 100%|██████████| 33.0M/33.0M [00:00<00:00, 59.7MB/s]\n",
      "Downloading data: 100%|██████████| 4.35M/4.35M [00:00<00:00, 77.9MB/s]\n",
      "Downloading data: 100%|██████████| 1.53M/1.53M [00:00<00:00, 18.9MB/s]\n",
      "Downloading data: 100%|██████████| 1.60M/1.60M [00:00<00:00, 51.9MB/s]\n",
      "Downloading data: 100%|██████████| 2.17M/2.17M [00:00<00:00, 76.7MB/s]\n",
      "Downloading data: 100%|██████████| 2.18M/2.18M [00:00<00:00, 28.5MB/s]\n",
      "Generating train split: 100%|██████████| 311431/311431 [00:10<00:00, 29704.31 examples/s]\n",
      "Generating labelled_dev split: 100%|██████████| 37566/37566 [00:01<00:00, 29198.78 examples/s]\n",
      "Generating unlabelled_dev split: 100%|██████████| 19998/19998 [00:00<00:00, 32136.44 examples/s]\n",
      "Generating unlabelled_test split: 100%|██████████| 19998/19998 [00:00<00:00, 32103.90 examples/s]\n",
      "Generating paper_dev split: 100%|██████████| 18999/18999 [00:00<00:00, 30957.65 examples/s]\n",
      "Generating paper_test split: 100%|██████████| 18567/18567 [00:00<00:00, 30423.10 examples/s]\n"
     ]
    }
   ],
   "source": [
    "dataset = load_dataset(\"fever/fever\", 'v1.0')"
   ]
  },
  {
   "cell_type": "code",
   "execution_count": 62,
   "metadata": {},
   "outputs": [
    {
     "data": {
      "text/plain": [
       "Dataset({\n",
       "    features: ['id', 'label', 'claim', 'evidence_annotation_id', 'evidence_id', 'evidence_wiki_url', 'evidence_sentence_id'],\n",
       "    num_rows: 311431\n",
       "})"
      ]
     },
     "execution_count": 62,
     "metadata": {},
     "output_type": "execute_result"
    }
   ],
   "source": [
    "dataset[\"train\"]"
   ]
  },
  {
   "cell_type": "code",
   "execution_count": 74,
   "metadata": {},
   "outputs": [
    {
     "data": {
      "text/plain": [
       "{'id': 156709,\n",
       " 'label': 'REFUTES',\n",
       " 'claim': 'Adrienne Bailon is an accountant.',\n",
       " 'evidence_annotation_id': 180804,\n",
       " 'evidence_id': 193183,\n",
       " 'evidence_wiki_url': 'Adrienne_Bailon',\n",
       " 'evidence_sentence_id': -1}"
      ]
     },
     "execution_count": 74,
     "metadata": {},
     "output_type": "execute_result"
    }
   ],
   "source": [
    "dataset[\"train\"][5]"
   ]
  },
  {
   "cell_type": "code",
   "execution_count": null,
   "metadata": {},
   "outputs": [],
   "source": []
  },
  {
   "cell_type": "code",
   "execution_count": 2,
   "metadata": {},
   "outputs": [
    {
     "name": "stderr",
     "output_type": "stream",
     "text": [
      "/data/katie_kang/miniconda3/envs/trlx2/lib/python3.9/site-packages/datasets/load.py:1461: FutureWarning: The repository for hotpotqa/hotpot_qa contains custom code which must be executed to correctly load the dataset. You can inspect the repository content at https://hf.co/datasets/hotpotqa/hotpot_qa\n",
      "You can avoid this message in future by passing the argument `trust_remote_code=True`.\n",
      "Passing `trust_remote_code=True` will be mandatory to load this dataset from the next major release of `datasets`.\n",
      "  warnings.warn(\n"
     ]
    }
   ],
   "source": [
    "\n",
    "dataset = load_dataset(\"hotpotqa/hotpot_qa\",\"distractor\")"
   ]
  },
  {
   "cell_type": "code",
   "execution_count": 3,
   "metadata": {},
   "outputs": [
    {
     "data": {
      "text/plain": [
       "Dataset({\n",
       "    features: ['id', 'question', 'answer', 'type', 'level', 'supporting_facts', 'context'],\n",
       "    num_rows: 90447\n",
       "})"
      ]
     },
     "execution_count": 3,
     "metadata": {},
     "output_type": "execute_result"
    }
   ],
   "source": [
    "dataset[\"train\"]"
   ]
  },
  {
   "cell_type": "code",
   "execution_count": 17,
   "metadata": {},
   "outputs": [
    {
     "data": {
      "text/plain": [
       "{'id': '5abd90545542996e802b47d7',\n",
       " 'question': 'Fast Cars, Danger, Fire and Knives includes guest appearances from which hip hop record executive?',\n",
       " 'answer': 'Jaime Meline',\n",
       " 'type': 'bridge',\n",
       " 'level': 'medium',\n",
       " 'supporting_facts': {'title': ['Fast Cars, Danger, Fire and Knives', 'El-P'],\n",
       "  'sent_id': [2, 0]},\n",
       " 'context': {'title': ['Lights Out Paris',\n",
       "   'El-P',\n",
       "   'Born and Raised (EP)',\n",
       "   'Lord Steppington',\n",
       "   'Control Freek',\n",
       "   'Hip hop',\n",
       "   'Fast Cars, Danger, Fire and Knives',\n",
       "   'Longterm Mentality',\n",
       "   'Experimental hip hop',\n",
       "   'Changes (Alyson Avenue album)'],\n",
       "  'sentences': [['Lights Out Paris is the first studio album by American hip hop artist Sims, a member of Minneapolis indie hip hop collective Doomtree.',\n",
       "    ' It was released July 28, 2005 on Doomtree Records and includes guest appearances from P.O.S, Crescent Moon, and Toki Wright, among others.',\n",
       "    ' The album was re-released with four remixes and five songs from Sims\\' \"False Hopes Four\" on vinyl in June 2015.'],\n",
       "   ['Jaime Meline (born March 2, 1975), better known by his stage name El-P (shortened from El Producto), is an American hip hop recording artist, record producer, and record executive.',\n",
       "    ' Originally a member of Company Flow, El-P has been a major driving force in alternative hip hop for more than two decades, producing for several notable rappers such as Aesop Rock, Mr. Lif, and Cage, among others.'],\n",
       "   ['Born and Raised is the debut EP by American hip hop duo Smif-N-Wessun, released on December 3, 2013, under Duck Down Music Inc..',\n",
       "    ' Entirely produced by Beatnick & K-Salaam, the 6-song EP is a blend between reggae and hip hop, and includes guest appearances from Junior Reid, Jr.',\n",
       "    ' Kelly, Jahdan Blakkamoore, and DJ Full Factor.',\n",
       "    ' The EP was preceded by one single — \"Solid Ground\" featuring dancehall icon Junior Reid.'],\n",
       "   ['Lord Steppington is the debut studio album by California-based hip hop duo Step Brothers (rapper/producers The Alchemist and Evidence).',\n",
       "    ' The album was released on January 21, 2014 by Rhymesayers Entertainment.',\n",
       "    \" The record was produced entirely by Alchemist and Evidence, and includes guest appearances from Action Bronson, Roc Marciano, Blu, Fashawn, Rakaa, Oh No, Styles P, Domo Genesis and The Whooliganz – Alchemist's old group which included actor Scott Caan.\"],\n",
       "   ['Control Freek is the second solo effort by rapper Tash of the West Coast hip hop crew Tha Alkaholiks.',\n",
       "    \" This albums comes ten years after Tash's first well-received solo album Rap Life.\",\n",
       "    ' It was released in 2009 on Amalgam Digital.',\n",
       "    \" It includes guest appearances from Tash's group Tha Alkaholiks in addition to guest spots from Del the Funky Homosapien, King T, B-Real from Cypress Hill, Knoc-turn'al, Khujo from Goodie Mob, among others.\"],\n",
       "   ['Hip hop or hip-hop is a subculture and art movement developed in South Bronx in New York City during the late 1970s.',\n",
       "    ' While people unfamiliar with hip hop culture often use the expression \"hip hop\" to refer exclusively to hip hop music (also called \"rap\"), Hip hop is characterized by nine distinct elements or expressive realms, of which hip hop music is only four elements (rapping, djaying, beatboxing and breaking).',\n",
       "    ' Afrika Bambaataa of the hip hop collective Zulu Nation outlined the pillars of hip hop culture, coining the terms: \"rapping\" (also called MCing or emceeing), a rhythmic vocal rhyming style (orality); DJing (and turntablism), which is making music with record players and DJ mixers (aural/sound and music creation); b-boying/b-girling/breakdancing (movement/dance); and graffiti art, which he called \"aerosol writin\\'\", although many say that the graffiti that hip hop adopted had been around years earlier, and had nothing to do with hip hop culture.',\n",
       "    ' (visual art).',\n",
       "    ' Other elements of hip hop subculture and arts movements beyond the main four are: hip hop culture and historical knowledge of the movement (intellectual/philosophical); beatboxing, a percussive vocal style; street entrepreneurship; hip hop language; and hip hop fashion and style, among others.'],\n",
       "   ['Fast Cars, Danger, Fire and Knives is an EP by American hip hop artist Aesop Rock.',\n",
       "    ' Released via the Definitive Jux label on February 22, 2005, the record is produced by Blockhead and Aesop Rock himself, with the former producing three tracks and the latter producing four, with one track produced by Rob Sonic.',\n",
       "    ' Vocals are handled by Aesop Rock, with guest appearances from Camu Tao and Metro of S.A. Smash and Definitive Jux label head El-P.',\n",
       "    ' All scratches are performed by DJ Big Wiz.'],\n",
       "   ['Longterm Mentality is the debut studio album by American hip hop recording artist Ab-Soul.',\n",
       "    \" It was released on April 5, 2011, by Top Dawg Entertainment (TDE), exclusively to digital retailers, serving as Ab-Soul's debut retail release.\",\n",
       "    ' The album features guest appearances from Jhené Aiko, Schoolboy Q, Kendrick Lamar, Punch, Alori Joh, JaVonté, MURS, BJ the Chicago Kid and Pat Brown, with the production from American hip hop record producers such as Tae Beast, Ayiro, Sounwave, AAyhasis, Context, Alexis Carrington and Tommy Black.',\n",
       "    ' Upon its release, the album received a highly acclaimed by music critics.'],\n",
       "   ['Experimental hip hop, also known as abstract hip hop, is a genre of hip hop that employs structural elements typically considered unconventional in traditional hip hop music.',\n",
       "    ' Some notable experimental hip hop record labels include Definitive Jux, Anticon, Big Dada and Ninja Tune.',\n",
       "    ' While most experimental hip hop incorporates turntablism and is produced electronically, some artists have introduced acoustic elements to the music to facilitate it being performed live.'],\n",
       "   ['Changes is the third album by Swedish AOR/rock band Alyson Avenue with new vocalist Arabella Vitanc.',\n",
       "    ' Alyson Avenue released their third album \"Changes\" through Avenue of Allies.',\n",
       "    ' The record was co-produced by band members and Chris Laney (Crazy Lixx, H.E.A.T., Brian Robertson) and includes guest appearances by Anette Olzon (Ex-Nightwish, Ex-Alyson Avenue), Michael Bormann (Ex-Jaded Heart, Charade, BISS), Rob Marcello (Danger Danger, Marcello - Vestry), Fredrik Bergh, (Street Talk, Bloodbound), Tommy Stråhle and Mike Andersson (Cloudscape, Planet Alliance).']]}}"
      ]
     },
     "execution_count": 17,
     "metadata": {},
     "output_type": "execute_result"
    }
   ],
   "source": [
    "dataset[\"train\"][10][]"
   ]
  },
  {
   "cell_type": "code",
   "execution_count": null,
   "metadata": {},
   "outputs": [
    {
     "ename": "",
     "evalue": "",
     "output_type": "error",
     "traceback": [
      "\u001b[1;31mJupyter cannot be started. Error attempting to locate Jupyter: Select an Interpreter to start Jupyter\n",
      "\u001b[1;31mRun the following command to install 'jupyter and notebook' into the Python environment. \n",
      "\u001b[1;31mCommand: 'python -m pip install jupyter notebook -U\n",
      "\u001b[1;31mor\n",
      "\u001b[1;31mconda install jupyter notebook -U'\n",
      "\u001b[1;31mClick <a href='https://aka.ms/installJupyterForVSCode'>here</a> for more info."
     ]
    }
   ],
   "source": [
    "problem_template = (\n",
    "\"\"\"Answer the following question using the given facts\n",
    "Facts: {facts_subsampled}\n",
    "Question: {question}\"\"\"\n",
    ")\n",
    "\n",
    "initial = (\n",
    "\"\"\"## Instruction:\n",
    "Answer the following question to be best of your ability\n",
    "\n",
    "{question}\n",
    "## Answer:\n",
    "\"\"\"\n",
    ")\n",
    "\n",
    "decide_ask_0 = (\n",
    "\"\"\"{context}\n",
    "\n",
    "## Instruction:\n",
    "Reflect on your solution and what you know now. Are there any remaining parts you're unsure about? Answer \"yes\" or \"no\" (one word only on its own line, nothing else).\n",
    "## Are you still unsure? [yes/no]:\"\"\"\n",
    ")\n",
    "\n",
    "\n",
    "decide_ask_1 = (\n",
    "\"\"\"{context}\n",
    "\n",
    "## Instruction:\n",
    "Reflect on your solution and what you know now. Are there any remaining parts you're unsure about? (hint: your solution is probably wrong). Answer \"yes\" or \"no\" (one word only on its own line, nothing else).\n",
    "## Are you still unsure? [yes/no]:\"\"\"\n",
    ")\n",
    "\n",
    "question = (\n",
    "\"\"\"{context}\n",
    "\n",
    "## Instruction:\n",
    "Explain what you're unsure about and ask for help. State as explicitly as possible where you are missing information to answer the question.\n",
    "## Your question:\"\"\"\n",
    ")\n",
    "\n",
    "final = (\n",
    "\"\"\"{context}\n",
    "\n",
    "## Instruction:\n",
    "Output your final solution.\n",
    "\n",
    "## Answer:\n",
    "\"\"\"\n",
    ")\n",
    "\n",
    "final_with_ask = (\n",
    "\"\"\"{context}\n",
    "\n",
    "## Instruction:\n",
    "Based on the information you received, make any necessary changes to your solution.\n",
    "\n",
    "First, explain about what you were incorrect about and what changes you will make to your answer given the new information. Then, output the correct answer.\n",
    "\n",
    "Start your final answer with \"Answer: \"\n",
    "\n",
    "## Your final solution:\n",
    "Reasoning:\"\"\"\n",
    ")\n",
    "\n",
    "\n",
    "teacher_sys = (\n",
    "\"\"\"You are a helpful teacher helping a student with their homework. The student is asking you questions about their homework.\n",
    "\n",
    "Your are provided with a list of facts to help you answer the student's questions. \n",
    "If the student's question is outside the scope of the provided facts, answer \"I don't know\".\n",
    "Otherwise, answer the student's question to the best of your ability using the provided facts. Be specific and succinct in your answer.\n",
    "\n",
    "\"\"\"\n",
    ")\n",
    "teacher_msg = (\n",
    "\"\"\"## Facts: {facts_full}\n",
    "\n",
    "## Student question: {question}\n",
    "## Answer:\"\"\"\n",
    ")\n",
    "\n",
    "\n",
    "CODE_PROMPTS = {\n",
    "  \"problem_template\": problem_template.strip(),\n",
    "  \"initial\": initial.strip(),\n",
    "  \"decide_ask_0\": decide_ask_0.strip(),\n",
    "  \"decide_ask_1\": decide_ask_1.strip(),\n",
    "  \"question\": question.strip(),\n",
    "  \"final\": final.strip(),\n",
    "  \"final_with_ask\": final_with_ask.strip(),\n",
    "  \"teacher_sys\": teacher_sys.strip(),\n",
    "  \"teacher_msg\": teacher_msg.strip(),\n",
    "}\n"
   ]
  },
  {
   "cell_type": "code",
   "execution_count": 4,
   "metadata": {},
   "outputs": [
    {
     "data": {
      "text/plain": [
       "dict_keys(['id', 'question', 'answer', 'type', 'level', 'supporting_facts', 'context'])"
      ]
     },
     "execution_count": 4,
     "metadata": {},
     "output_type": "execute_result"
    }
   ],
   "source": [
    "dataset[\"train\"][10].keys()"
   ]
  },
  {
   "cell_type": "code",
   "execution_count": 16,
   "metadata": {},
   "outputs": [
    {
     "data": {
      "text/plain": [
       "{'title': ['Warren Bryant', 'Longs Drugs'], 'sent_id': [0, 0]}"
      ]
     },
     "execution_count": 16,
     "metadata": {},
     "output_type": "execute_result"
    }
   ],
   "source": [
    "dataset[\"train\"][20][\"supporting_facts\"]"
   ]
  },
  {
   "cell_type": "code",
   "execution_count": 18,
   "metadata": {},
   "outputs": [
    {
     "data": {
      "text/plain": [
       "[['Lights Out Paris is the first studio album by American hip hop artist Sims, a member of Minneapolis indie hip hop collective Doomtree.',\n",
       "  ' It was released July 28, 2005 on Doomtree Records and includes guest appearances from P.O.S, Crescent Moon, and Toki Wright, among others.',\n",
       "  ' The album was re-released with four remixes and five songs from Sims\\' \"False Hopes Four\" on vinyl in June 2015.'],\n",
       " ['Jaime Meline (born March 2, 1975), better known by his stage name El-P (shortened from El Producto), is an American hip hop recording artist, record producer, and record executive.',\n",
       "  ' Originally a member of Company Flow, El-P has been a major driving force in alternative hip hop for more than two decades, producing for several notable rappers such as Aesop Rock, Mr. Lif, and Cage, among others.'],\n",
       " ['Born and Raised is the debut EP by American hip hop duo Smif-N-Wessun, released on December 3, 2013, under Duck Down Music Inc..',\n",
       "  ' Entirely produced by Beatnick & K-Salaam, the 6-song EP is a blend between reggae and hip hop, and includes guest appearances from Junior Reid, Jr.',\n",
       "  ' Kelly, Jahdan Blakkamoore, and DJ Full Factor.',\n",
       "  ' The EP was preceded by one single — \"Solid Ground\" featuring dancehall icon Junior Reid.'],\n",
       " ['Lord Steppington is the debut studio album by California-based hip hop duo Step Brothers (rapper/producers The Alchemist and Evidence).',\n",
       "  ' The album was released on January 21, 2014 by Rhymesayers Entertainment.',\n",
       "  \" The record was produced entirely by Alchemist and Evidence, and includes guest appearances from Action Bronson, Roc Marciano, Blu, Fashawn, Rakaa, Oh No, Styles P, Domo Genesis and The Whooliganz – Alchemist's old group which included actor Scott Caan.\"],\n",
       " ['Control Freek is the second solo effort by rapper Tash of the West Coast hip hop crew Tha Alkaholiks.',\n",
       "  \" This albums comes ten years after Tash's first well-received solo album Rap Life.\",\n",
       "  ' It was released in 2009 on Amalgam Digital.',\n",
       "  \" It includes guest appearances from Tash's group Tha Alkaholiks in addition to guest spots from Del the Funky Homosapien, King T, B-Real from Cypress Hill, Knoc-turn'al, Khujo from Goodie Mob, among others.\"],\n",
       " ['Hip hop or hip-hop is a subculture and art movement developed in South Bronx in New York City during the late 1970s.',\n",
       "  ' While people unfamiliar with hip hop culture often use the expression \"hip hop\" to refer exclusively to hip hop music (also called \"rap\"), Hip hop is characterized by nine distinct elements or expressive realms, of which hip hop music is only four elements (rapping, djaying, beatboxing and breaking).',\n",
       "  ' Afrika Bambaataa of the hip hop collective Zulu Nation outlined the pillars of hip hop culture, coining the terms: \"rapping\" (also called MCing or emceeing), a rhythmic vocal rhyming style (orality); DJing (and turntablism), which is making music with record players and DJ mixers (aural/sound and music creation); b-boying/b-girling/breakdancing (movement/dance); and graffiti art, which he called \"aerosol writin\\'\", although many say that the graffiti that hip hop adopted had been around years earlier, and had nothing to do with hip hop culture.',\n",
       "  ' (visual art).',\n",
       "  ' Other elements of hip hop subculture and arts movements beyond the main four are: hip hop culture and historical knowledge of the movement (intellectual/philosophical); beatboxing, a percussive vocal style; street entrepreneurship; hip hop language; and hip hop fashion and style, among others.'],\n",
       " ['Fast Cars, Danger, Fire and Knives is an EP by American hip hop artist Aesop Rock.',\n",
       "  ' Released via the Definitive Jux label on February 22, 2005, the record is produced by Blockhead and Aesop Rock himself, with the former producing three tracks and the latter producing four, with one track produced by Rob Sonic.',\n",
       "  ' Vocals are handled by Aesop Rock, with guest appearances from Camu Tao and Metro of S.A. Smash and Definitive Jux label head El-P.',\n",
       "  ' All scratches are performed by DJ Big Wiz.'],\n",
       " ['Longterm Mentality is the debut studio album by American hip hop recording artist Ab-Soul.',\n",
       "  \" It was released on April 5, 2011, by Top Dawg Entertainment (TDE), exclusively to digital retailers, serving as Ab-Soul's debut retail release.\",\n",
       "  ' The album features guest appearances from Jhené Aiko, Schoolboy Q, Kendrick Lamar, Punch, Alori Joh, JaVonté, MURS, BJ the Chicago Kid and Pat Brown, with the production from American hip hop record producers such as Tae Beast, Ayiro, Sounwave, AAyhasis, Context, Alexis Carrington and Tommy Black.',\n",
       "  ' Upon its release, the album received a highly acclaimed by music critics.'],\n",
       " ['Experimental hip hop, also known as abstract hip hop, is a genre of hip hop that employs structural elements typically considered unconventional in traditional hip hop music.',\n",
       "  ' Some notable experimental hip hop record labels include Definitive Jux, Anticon, Big Dada and Ninja Tune.',\n",
       "  ' While most experimental hip hop incorporates turntablism and is produced electronically, some artists have introduced acoustic elements to the music to facilitate it being performed live.'],\n",
       " ['Changes is the third album by Swedish AOR/rock band Alyson Avenue with new vocalist Arabella Vitanc.',\n",
       "  ' Alyson Avenue released their third album \"Changes\" through Avenue of Allies.',\n",
       "  ' The record was co-produced by band members and Chris Laney (Crazy Lixx, H.E.A.T., Brian Robertson) and includes guest appearances by Anette Olzon (Ex-Nightwish, Ex-Alyson Avenue), Michael Bormann (Ex-Jaded Heart, Charade, BISS), Rob Marcello (Danger Danger, Marcello - Vestry), Fredrik Bergh, (Street Talk, Bloodbound), Tommy Stråhle and Mike Andersson (Cloudscape, Planet Alliance).']]"
      ]
     },
     "execution_count": 18,
     "metadata": {},
     "output_type": "execute_result"
    }
   ],
   "source": [
    "dataset[\"train\"][10][\"context\"][\"sentences\"]"
   ]
  },
  {
   "cell_type": "code",
   "execution_count": 38,
   "metadata": {},
   "outputs": [],
   "source": [
    "import numpy as np \n",
    "def get_supporting_facts(example):\n",
    "    supporting_facts_info = example[\"supporting_facts\"]\n",
    "    supporting_facts_all = example[\"context\"]\n",
    "    \n",
    "    titles = []\n",
    "    supporting_facts = []\n",
    "    for fact_idx in range(len(supporting_facts_info[\"title\"])):\n",
    "        title = supporting_facts_info[\"title\"][fact_idx]\n",
    "        context_idx = np.where(np.array(supporting_facts_all[\"title\"]) == title)[0][0]\n",
    "        fact = supporting_facts_all[\"sentences\"][context_idx][supporting_facts_info[\"sent_id\"][fact_idx]]\n",
    "        titles.append(title)\n",
    "        supporting_facts.append(fact)\n",
    "    return titles, supporting_facts\n",
    "        "
   ]
  },
  {
   "cell_type": "code",
   "execution_count": 55,
   "metadata": {},
   "outputs": [
    {
     "name": "stdout",
     "output_type": "stream",
     "text": [
      "Abraham Weinberg was a suspect in the killing of which Irish-American hitman?\n",
      "Vincent \"Mad Dog\" Coll\n",
      "Abraham Weinberg:  Abe Weinberg would become one of Schultz's top gunmen during the Manhattan Bootleg Wars and was a later suspect in the high-profile gangland slayings of Jack \"Legs\" Diamond, Vincent \"Mad Dog\" Coll, and mob boss Salvatore Maranzano.\n",
      "Mad Dog Coll: Vincent \"Mad Dog\" Coll (born Uinseann Ó Colla, July 20, 1908 – February 7, 1932) was an Irish American mob hitman in the 1920s and early 1930s in New York City.\n"
     ]
    }
   ],
   "source": [
    "idx = 150\n",
    "# idx = 152\n",
    "print(dataset[\"train\"][idx][\"question\"])\n",
    "print(dataset[\"train\"][idx][\"answer\"])\n",
    "titles, supporting_facts = (get_supporting_facts(dataset[\"train\"][idx]))\n",
    "\n",
    "for i in range(len(titles)):\n",
    "    print(titles[i]+\": \"+ supporting_facts[i])"
   ]
  },
  {
   "cell_type": "code",
   "execution_count": 52,
   "metadata": {},
   "outputs": [
    {
     "name": "stdout",
     "output_type": "stream",
     "text": [
      "What was population of the city where the Dutch retired footballer Foeke Booy born?\n",
      "108,249\n",
      "Foeke Booy: Foeke Booy (born 25 April 1962 in Leeuwarden) is a Dutch retired footballer and football manager.\n",
      "Leeuwarden: Leeuwarden (] , ] ), Stadsfries: \"Liwwadden\") is a city and municipality with a population of 108,249 in Friesland in the Netherlands.\n"
     ]
    }
   ],
   "source": [
    "idx = 153\n",
    "print(dataset[\"train\"][idx][\"question\"])\n",
    "print(dataset[\"train\"][idx][\"answer\"])\n",
    "titles, supporting_facts = (get_supporting_facts(dataset[\"train\"][idx]))\n",
    "\n",
    "for i in range(len(titles)):\n",
    "    print(titles[i]+\": \"+ supporting_facts[i])"
   ]
  },
  {
   "cell_type": "code",
   "execution_count": 58,
   "metadata": {},
   "outputs": [
    {
     "name": "stdout",
     "output_type": "stream",
     "text": [
      "Mackenzie Davis appeared in the 2013 Canadian romantic comedy film directed by whom?\n",
      "Michael Dowse\n",
      "Mackenzie Davis:  She made her film debut in \"Smashed\", and later appeared in \"Breathe In\", \"That Awkward Moment\", and \"The F Word\", the latter for which she received a Canadian Screen Award nomination.\n",
      "The F Word (2013 film):  is a 2013 Canadian romantic comedy film directed by Michael Dowse and written by Elan Mastai, based on TJ Dawe and Michael Rinaldi's play \"Toothpaste and Cigars\".\n"
     ]
    }
   ],
   "source": [
    "idx = 158\n",
    "print(dataset[\"train\"][idx][\"question\"])\n",
    "print(dataset[\"train\"][idx][\"answer\"])\n",
    "titles, supporting_facts = (get_supporting_facts(dataset[\"train\"][idx]))\n",
    "\n",
    "for i in range(len(titles)):\n",
    "    print(titles[i]+\": \"+ supporting_facts[i])"
   ]
  },
  {
   "cell_type": "code",
   "execution_count": null,
   "metadata": {},
   "outputs": [],
   "source": [
    "# one fact gives all the info away\n",
    "\n",
    "# The 2000–01 NBA season was the Jazz's 27th season in the National Basketball Association, and 22nd season in Salt Lake City, Utah, after the retirement of Jeff Hornacek, the Jazz signed free agents John Starks, and who?\n",
    "# Danny Manning\n",
    "# 2000–01 Utah Jazz season:  After the retirement of Jeff Hornacek, the Jazz signed free agents Danny Manning and John Starks, and acquired Donyell Marshall from the Golden State Warriors in an offseason four-team trade.\n",
    "# John Starks (basketball): John Levell Starks (born August 10, 1965) is an American retired professional basketball shooting guard."
   ]
  },
  {
   "cell_type": "code",
   "execution_count": null,
   "metadata": {},
   "outputs": [],
   "source": [
    "# you can guess the answer from just the presense of some facts\n",
    "\n",
    "# Who chaired the ceremony in which the film written by Canet and Philippe Lefebvre won the award for Best Film?\n",
    "# Isabelle Mergault\n",
    "# 12th Lumières Awards:  The ceremony was chaired by Isabelle Mergault. \"\n",
    "# 12th Lumières Awards: Tell No One\" won the award for Best Film.\n",
    "# Tell No One:  Written by Canet and Philippe Lefebvre and starring François Cluzet, the film won four categories at the 2007 César Awards in France: Best Director (Guillaume Canet), Best Actor (François Cluzet), Best Editing and Best Music Written for a Film.\n",
    "\n",
    "\n",
    "# Given first 2 facts, GPT answers \n",
    "# Who chaired the 12th Lumières Awards ceremony in which \"Tell No One\" won the award for Best Film?\n"
   ]
  },
  {
   "cell_type": "code",
   "execution_count": null,
   "metadata": {},
   "outputs": [],
   "source": [
    "# GPT just rephrases the question\n",
    "\n",
    "# There is some information missing from the provided fact in order to answer the given question. Ask a question to query for the missing information. The question to query for the least amount of information necessary.\n",
    "\n",
    "# Question: Abraham Weinberg was a suspect in the killing of which Irish-American hitman?\n",
    "\n",
    "# Facts:\n",
    "# Abraham Weinberg: Abe Weinberg would become one of Schultz's top gunmen during the Manhattan Bootleg Wars and was a later suspect in the high-profile gangland slayings of Jack \"Legs\" Diamond, Vincent \"Mad Dog\" Coll, and mob boss Salvatore Maranzano.\n",
    "# Mad Dog Coll: Vincent \"Mad Dog\" Coll (born Uinseann Ó Colla, July 20, 1908 – February 7, 1932) was an Irish American mob hitman in the 1920s and early 1930s in New York City.\n",
    "\n",
    "# Given fact 1\n",
    "# Which Irish-American hitman was among the high-profile gangland slayings in which Abraham Weinberg was a suspect?\n",
    "\n",
    "\n",
    "\n",
    "\n",
    "\n"
   ]
  },
  {
   "cell_type": "code",
   "execution_count": null,
   "metadata": {},
   "outputs": [],
   "source": [
    "\n",
    "questions = []\n",
    "answers = []\n",
    "facts = []\n",
    "\n",
    "\n",
    "\n",
    "    texts = [\n",
    "      self.prompts[\"problem_template\"].format(\n",
    "        task=p[\"text\"],\n",
    "        tests=\"\\n\".join(p[\"test_list\"]),\n",
    "      )\n",
    "      for p in self.problems\n",
    "    ]\n",
    "    contexts = [\n",
    "      {\n",
    "        \"problem\": p,\n",
    "        \"text\": t,\n",
    "        \"done\": False,\n",
    "        \"invalid\": False,\n",
    "        \"correct\": False\n",
    "      } for p, t in zip(self.problems, texts)\n",
    "    ]\n",
    "\n",
    "    # Generate initial solution\n",
    "    contexts = self.initial_answer(contexts)\n",
    "    invalid = [c for c in contexts if c[\"invalid\"]]\n",
    "    contexts = [c for c in contexts if not c[\"invalid\"]]\n",
    "    print(\n",
    "      f\" => Generating initial: {len(contexts)} pass | {len(invalid)} invalid\"\n",
    "      f\" | {len(self.problems)} total\"\n",
    "    )\n",
    "\n",
    "    # Decide\n",
    "    contexts = self.decide_ask(contexts)\n",
    "    invalid += [c for c in contexts if c[\"invalid\"]]\n",
    "    contexts = [c for c in contexts if not c[\"invalid\"]]\n",
    "\n",
    "    # Ask for the rest\n",
    "    complete = [c for c in contexts if c[\"done\"]]\n",
    "    incomplete = [c for c in contexts if not c[\"done\"]]\n",
    "    incomplete_and_wrong = [c for c in incomplete if not c[\"initial_correct\"]]\n",
    "    print(\n",
    "      f\" => After decide ask: {len(contexts)} pass\"\n",
    "      f\" : {len(complete)} done (no ask) {len(incomplete)} want to ask {len(incomplete_and_wrong)} actually ask\"\n",
    "      f\" | {len(invalid)} invalid\"\n",
    "    )\n",
    "    rest = self.ask_questions(incomplete_and_wrong)\n",
    "    contexts = complete + incomplete + rest\n",
    "    print(\n",
    "      f\" => After ask branching: {len(contexts)} pass\"\n",
    "      f\" : {len(incomplete_and_wrong)} asked -> {len(rest)} branched\"\n",
    "      f\" | {len(invalid)} invalid\"\n",
    "    )\n",
    "\n",
    "    # Final\n",
    "    contexts = self.final_answer(contexts)\n",
    "    invalid += [c for c in contexts if c[\"invalid\"]]\n",
    "    contexts = [c for c in contexts if not c[\"invalid\"]]\n",
    "    print(\n",
    "      f\" => After final: {len(contexts)} pass\"\n",
    "      f\" | {len(invalid)} invalid\"\n",
    "    )\n",
    "\n",
    "    contexts = self.evaluate_improvement(contexts)\n",
    "    dataset = [c for c in contexts if not c[\"invalid\"] and c[\"evaluator_better\"]]\n",
    "    print(\n",
    "      f\" => After evaluator: {len(dataset)} dataset\"\n",
    "      f\" : {len([c for c in contexts if c['evaluator_better']])} better\"\n",
    "      f\" | {len(invalid)} invalid\"\n",
    "    )"
   ]
  }
 ],
 "metadata": {
  "kernelspec": {
   "display_name": "Python 3.9.19 ('trlx2')",
   "language": "python",
   "name": "python3"
  },
  "language_info": {
   "codemirror_mode": {
    "name": "ipython",
    "version": 3
   },
   "file_extension": ".py",
   "mimetype": "text/x-python",
   "name": "python",
   "nbconvert_exporter": "python",
   "pygments_lexer": "ipython3",
   "version": "3.9.19"
  },
  "vscode": {
   "interpreter": {
    "hash": "880a2784cc7455d0838240b106af40f2a25d56f4b3fd04cbca1f9dd75c2a460d"
   }
  }
 },
 "nbformat": 4,
 "nbformat_minor": 2
}
